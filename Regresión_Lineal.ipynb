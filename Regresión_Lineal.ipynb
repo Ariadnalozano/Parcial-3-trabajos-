{
  "nbformat": 4,
  "nbformat_minor": 0,
  "metadata": {
    "colab": {
      "provenance": []
    },
    "kernelspec": {
      "name": "python3",
      "display_name": "Python 3"
    },
    "language_info": {
      "name": "python"
    }
  },
  "cells": [
    {
      "cell_type": "code",
      "execution_count": null,
      "metadata": {
        "id": "mRFjObLUPng5"
      },
      "outputs": [],
      "source": [
        "import matplotlib.pyplot as plt\n",
        "import seaborn as sns\n",
        "import numpy as np"
      ]
    },
    {
      "cell_type": "code",
      "source": [
        "rng = np.random.RandomState(1)\n",
        "x = 10 * rng.rand(50)\n",
        "y = 2 * x - 5 + rng.randn(50)# esta es la pendiente\n",
        "plt.scatter(x, y);"
      ],
      "metadata": {
        "colab": {
          "base_uri": "https://localhost:8080/",
          "height": 265
        },
        "id": "3pOmoBB6QCjs",
        "outputId": "a1b39215-92df-4ead-9a1a-55d8c2631ddc"
      },
      "execution_count": null,
      "outputs": [
        {
          "output_type": "display_data",
          "data": {
            "text/plain": [
              "<Figure size 432x288 with 1 Axes>"
            ],
            "image/png": "[encoded data removed]"
          },
          "metadata": {
            "needs_background": "light"
          }
        }
      ]
    },
    {
      "cell_type": "code",
      "source": [
        "#Quieres que la distancia de los puntos a la recta sea minima, que sea en todos\n",
        "#Necesitamos encontrar la Beta 0"
      ],
      "metadata": {
        "id": "cF8XgXixRhjI"
      },
      "execution_count": null,
      "outputs": []
    },
    {
      "cell_type": "markdown",
      "source": [
        "##LR1"
      ],
      "metadata": {
        "id": "Fw-W1x3ehh--"
      }
    },
    {
      "cell_type": "code",
      "source": [
        "x =[5,7,8,7,2,17,2,9,4,11,12,9,6]\n",
        "y = [99,86,87,88,111,86,103,87,94,78,77,85,86]\n",
        "\n",
        "plt.scatter(x,y)\n",
        "plt.show()"
      ],
      "metadata": {
        "colab": {
          "base_uri": "https://localhost:8080/",
          "height": 265
        },
        "id": "QQKQfFmtheHA",
        "outputId": "2dd29e7c-406a-4dd0-88ed-3591677b8165"
      },
      "execution_count": null,
      "outputs": [
        {
          "output_type": "display_data",
          "data": {
            "text/plain": [
              "<Figure size 432x288 with 1 Axes>"
            ],
            "image/png": "[encoded data removed]"
          },
          "metadata": {
            "needs_background": "light"
          }
        }
      ]
    },
    {
      "cell_type": "code",
      "source": [
        "#Como puedo calcularla con respecto a la media\n",
        "import numpy as np\n",
        "barx = np.mean(x)\n",
        "bary = np.mean(y)\n",
        "\n",
        "print(barx,bary)"
      ],
      "metadata": {
        "colab": {
          "base_uri": "https://localhost:8080/"
        },
        "id": "H9va4pLPiRED",
        "outputId": "c710615d-9a84-4855-ac2b-97b7b0c6fc83"
      },
      "execution_count": null,
      "outputs": [
        {
          "output_type": "stream",
          "name": "stdout",
          "text": [
            "7.615384615384615 89.76923076923077\n"
          ]
        }
      ]
    },
    {
      "cell_type": "code",
      "source": [
        "#hay un metodo para calculae la variancia\n",
        "varx = np.var(x,ddof=1)#Varianza muestral\n",
        "covxy = np.cov(x,y,ddof=1)#Covarianza muestral\n",
        "\n",
        "varx,covxy"
      ],
      "metadata": {
        "colab": {
          "base_uri": "https://localhost:8080/"
        },
        "id": "TseK1y3TjG9t",
        "outputId": "d8e09346-a673-4f8c-f93e-4c5f4053e698"
      },
      "execution_count": null,
      "outputs": [
        {
          "output_type": "execute_result",
          "data": {
            "text/plain": [
              "(17.423076923076923, array([[ 17.42307692, -30.51282051],\n",
              "        [-30.51282051,  92.85897436]]))"
            ]
          },
          "metadata": {},
          "execution_count": 6
        }
      ]
    },
    {
      "cell_type": "code",
      "source": [
        "print(varx)"
      ],
      "metadata": {
        "colab": {
          "base_uri": "https://localhost:8080/"
        },
        "id": "Xk7Ff0Y5juSx",
        "outputId": "ec4629ef-d68d-4900-e603-324e818730a0"
      },
      "execution_count": null,
      "outputs": [
        {
          "output_type": "stream",
          "name": "stdout",
          "text": [
            "17.423076923076923\n"
          ]
        }
      ]
    },
    {
      "cell_type": "code",
      "source": [
        "covxy=covxy[0,1]\n",
        "covxy"
      ],
      "metadata": {
        "colab": {
          "base_uri": "https://localhost:8080/"
        },
        "id": "tHCOj2GikXTz",
        "outputId": "10e45b95-e7b4-40d3-ca0e-6e530c3829eb"
      },
      "execution_count": null,
      "outputs": [
        {
          "output_type": "execute_result",
          "data": {
            "text/plain": [
              "-30.51282051282051"
            ]
          },
          "metadata": {},
          "execution_count": 8
        }
      ]
    },
    {
      "cell_type": "code",
      "source": [
        "beta1 = covxy/varx\n",
        "beta0 = bary-beta1*barx\n",
        "\n",
        "print(beta0,beta1)"
      ],
      "metadata": {
        "colab": {
          "base_uri": "https://localhost:8080/"
        },
        "id": "epG88e5Gkr2o",
        "outputId": "cdb5df23-524c-457d-ba72-6107976fb90d"
      },
      "execution_count": null,
      "outputs": [
        {
          "output_type": "stream",
          "name": "stdout",
          "text": [
            "103.10596026490066 -1.751287711552612\n"
          ]
        }
      ]
    },
    {
      "cell_type": "code",
      "source": [
        "import matplotlib.pyplot as plt\n",
        "from scipy import stats\n",
        "\n",
        "slope, intercept, r, p, std_err = stats.linregress(x,y)\n",
        "def myfunc(x):\n",
        "  return slope * x + intercept\n",
        "mymodel = list(map(myfunc,x))\n",
        "plt.scatter(x,y)\n",
        "plt.plot(x,mymodel)\n",
        "plt.show()"
      ],
      "metadata": {
        "colab": {
          "base_uri": "https://localhost:8080/",
          "height": 265
        },
        "id": "ieKjo8aZlMJ5",
        "outputId": "60a6a62c-5b5d-4f03-b944-946310f6c604"
      },
      "execution_count": null,
      "outputs": [
        {
          "output_type": "display_data",
          "data": {
            "text/plain": [
              "<Figure size 432x288 with 1 Axes>"
            ],
            "image/png": "[encoded data removed]"
          },
          "metadata": {
            "needs_background": "light"
          }
        }
      ]
    },
    {
      "cell_type": "code",
      "source": [
        "slope, intercept"
      ],
      "metadata": {
        "colab": {
          "base_uri": "https://localhost:8080/"
        },
        "id": "JnQfArM_mZcy",
        "outputId": "97086777-2097-426a-f212-f949eeeeb47a"
      },
      "execution_count": null,
      "outputs": [
        {
          "output_type": "execute_result",
          "data": {
            "text/plain": [
              "(-1.7512877115526118, 103.10596026490066)"
            ]
          },
          "metadata": {},
          "execution_count": 11
        }
      ]
    },
    {
      "cell_type": "code",
      "source": [
        "r #Es una medida (coeficiente de determinación) que indica que tan buen modelo es el ajustado"
      ],
      "metadata": {
        "colab": {
          "base_uri": "https://localhost:8080/"
        },
        "id": "EWlV_nYys5tH",
        "outputId": "079a0d2f-fe08-4e4f-dc7f-9f4584b59253"
      },
      "execution_count": null,
      "outputs": [
        {
          "output_type": "execute_result",
          "data": {
            "text/plain": [
              "-0.758591524376155"
            ]
          },
          "metadata": {},
          "execution_count": 12
        }
      ]
    },
    {
      "cell_type": "code",
      "source": [
        "s = myfunc(10) # predicción"
      ],
      "metadata": {
        "id": "1ZAUGkwjtMni"
      },
      "execution_count": null,
      "outputs": []
    },
    {
      "cell_type": "code",
      "source": [
        "print(s)"
      ],
      "metadata": {
        "colab": {
          "base_uri": "https://localhost:8080/"
        },
        "id": "JP7NtTqTtSSl",
        "outputId": "f3f85304-9fdf-4d3f-b621-4b3b6d8804e3"
      },
      "execution_count": null,
      "outputs": [
        {
          "output_type": "stream",
          "name": "stdout",
          "text": [
            "85.59308314937454\n"
          ]
        }
      ]
    },
    {
      "cell_type": "code",
      "source": [],
      "metadata": {
        "id": "-HNP12PstYvt"
      },
      "execution_count": null,
      "outputs": []
    },
    {
      "cell_type": "markdown",
      "source": [
        "##Tarea, Ejemplo 1\n",
        "Costo de estampillas a los largo de los años"
      ],
      "metadata": {
        "id": "I_vYglTItcA3"
      }
    },
    {
      "cell_type": "code",
      "source": [
        "#Datos que ultilizaremos\n",
        "año =[1963,1968,1971,1974,1975,1978,1981,1985,1988,1991,1995,1999, 2001,2002,2006,2007,2008,2009,2012,2013,2014]\n",
        "cost =[.05,.06,.08,.10,.13,.15,.20,.22,.25,.29,.32,.33,.34,.37,.39,.41,.42,.44,.45,.46,.49]\n",
        "plt.scatter(año,cost)\n",
        "plt.show"
      ],
      "metadata": {
        "colab": {
          "base_uri": "https://localhost:8080/",
          "height": 283
        },
        "id": "EJVEtzlB_tvq",
        "outputId": "f85f5b42-f416-4e79-f83b-726175ece495"
      },
      "execution_count": null,
      "outputs": [
        {
          "output_type": "execute_result",
          "data": {
            "text/plain": [
              "<function matplotlib.pyplot.show(*args, **kw)>"
            ]
          },
          "metadata": {},
          "execution_count": 27
        },
        {
          "output_type": "display_data",
          "data": {
            "text/plain": [
              "<Figure size 432x288 with 1 Axes>"
            ],
            "image/png": "[encoded data removed]"
          },
          "metadata": {
            "needs_background": "light"
          }
        }
      ]
    },
    {
      "cell_type": "code",
      "source": [
        "#Calculo de la media\n",
        "baraño = np.mean(año)\n",
        "barcost =np.mean(cost)\n",
        "print(baraño,barcost)"
      ],
      "metadata": {
        "colab": {
          "base_uri": "https://localhost:8080/"
        },
        "id": "oz8cngMRBEWo",
        "outputId": "7c67bf2d-22a6-4de1-e48f-56ce94542be3"
      },
      "execution_count": null,
      "outputs": [
        {
          "output_type": "stream",
          "name": "stdout",
          "text": [
            "1992.3809523809523 0.2833333333333334\n"
          ]
        }
      ]
    },
    {
      "cell_type": "code",
      "source": [
        "#Calculo de varianza y de la covarianza\n",
        "varA =np.var(año,ddof=1)#Varianza muestral\n",
        "covacost = np.cov(año,cost,ddof=1)#Covarianza muestral\n",
        "varA,covacost"
      ],
      "metadata": {
        "colab": {
          "base_uri": "https://localhost:8080/"
        },
        "id": "NEmm3DLkDvR0",
        "outputId": "01a09ef0-1b50-4b64-f011-8ba243420aa0"
      },
      "execution_count": null,
      "outputs": [
        {
          "output_type": "execute_result",
          "data": {
            "text/plain": [
              "(269.04761904761904, array([[2.69047619e+02, 2.36516667e+00],\n",
              "        [2.36516667e+00, 2.09633333e-02]]))"
            ]
          },
          "metadata": {},
          "execution_count": 23
        }
      ]
    },
    {
      "cell_type": "code",
      "source": [
        "print(varA)\n"
      ],
      "metadata": {
        "colab": {
          "base_uri": "https://localhost:8080/"
        },
        "id": "MOh1inb9FvHg",
        "outputId": "36bc1d64-27f6-48de-c5e7-05dd544ee7f1"
      },
      "execution_count": null,
      "outputs": [
        {
          "output_type": "stream",
          "name": "stdout",
          "text": [
            "269.04761904761904\n"
          ]
        }
      ]
    },
    {
      "cell_type": "code",
      "source": [
        "covacost=covacost[0,1]\n",
        "covacost"
      ],
      "metadata": {
        "colab": {
          "base_uri": "https://localhost:8080/"
        },
        "id": "GSnwPN_FF2f9",
        "outputId": "9932290a-b82b-4447-d839-24313ad3f1cb"
      },
      "execution_count": null,
      "outputs": [
        {
          "output_type": "execute_result",
          "data": {
            "text/plain": [
              "2.3651666666666666"
            ]
          },
          "metadata": {},
          "execution_count": 25
        }
      ]
    },
    {
      "cell_type": "code",
      "source": [
        "beta1 = covacost/varA\n",
        "beta0 = barcost-beta1*baraño\n",
        "print(beta0,beta1)"
      ],
      "metadata": {
        "colab": {
          "base_uri": "https://localhost:8080/"
        },
        "id": "2OJUkQ_PGHHd",
        "outputId": "ffeaa1ea-80fa-49eb-e7d4-ad8fa4f17d8d"
      },
      "execution_count": null,
      "outputs": [
        {
          "output_type": "stream",
          "name": "stdout",
          "text": [
            "-17.231458407079643 0.008790884955752212\n"
          ]
        }
      ]
    },
    {
      "cell_type": "code",
      "source": [
        "#Grafica con la pendiente\n",
        "import matplotlib.pyplot as plt\n",
        "from scipy import stats\n",
        "slope, intercept, r, p, std_err = stats.linregress(año,cost)\n",
        "def myfunc (año):\n",
        "  return slope * año + intercept\n",
        "mymodel = list(map(myfunc,año))\n",
        "plt.scatter(año,cost)\n",
        "plt.plot(año,mymodel)\n",
        "plt.show()"
      ],
      "metadata": {
        "colab": {
          "base_uri": "https://localhost:8080/",
          "height": 265
        },
        "id": "MBvsH3YQHEdg",
        "outputId": "26a5e395-0689-425f-f3f2-0278caaff27e"
      },
      "execution_count": null,
      "outputs": [
        {
          "output_type": "display_data",
          "data": {
            "text/plain": [
              "<Figure size 432x288 with 1 Axes>"
            ],
            "image/png": "[encoded data removed]"
          },
          "metadata": {
            "needs_background": "light"
          }
        }
      ]
    },
    {
      "cell_type": "code",
      "source": [
        "slope, intercept"
      ],
      "metadata": {
        "colab": {
          "base_uri": "https://localhost:8080/"
        },
        "id": "Ug4m0-NzIPge",
        "outputId": "1e381b09-b8c0-4b5d-e69b-9a24e378a098"
      },
      "execution_count": null,
      "outputs": [
        {
          "output_type": "execute_result",
          "data": {
            "text/plain": [
              "(0.008790884955752212, -17.231458407079643)"
            ]
          },
          "metadata": {},
          "execution_count": 30
        }
      ]
    },
    {
      "cell_type": "code",
      "source": [
        "#Calculo de r, como la medida de coeficiente de determinación\n",
        "r"
      ],
      "metadata": {
        "colab": {
          "base_uri": "https://localhost:8080/"
        },
        "id": "lMeY5GdWIWgM",
        "outputId": "9174087e-8544-4f3e-c4bf-f71c11762d5a"
      },
      "execution_count": null,
      "outputs": [
        {
          "output_type": "execute_result",
          "data": {
            "text/plain": [
              "0.9959029140154058"
            ]
          },
          "metadata": {},
          "execution_count": 31
        }
      ]
    },
    {
      "cell_type": "code",
      "source": [
        "#Predicción del costo de estampillas en el año 2016\n",
        "f = myfunc(2016)\n",
        "print (f)"
      ],
      "metadata": {
        "colab": {
          "base_uri": "https://localhost:8080/"
        },
        "id": "cb6yBRQtIgES",
        "outputId": "1ac311d4-948e-455e-9ee7-876a26b77663"
      },
      "execution_count": null,
      "outputs": [
        {
          "output_type": "stream",
          "name": "stdout",
          "text": [
            "0.4909656637168176\n"
          ]
        }
      ]
    },
    {
      "cell_type": "code",
      "source": [
        "#Meter las variables del ejercicio\n",
        "#Prdice el valor en 2016\n"
      ],
      "metadata": {
        "id": "EFpPXpmvpj4U"
      },
      "execution_count": null,
      "outputs": []
    }
  ]
}